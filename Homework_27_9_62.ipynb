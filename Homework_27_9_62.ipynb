{
 "cells": [
  {
   "cell_type": "code",
   "execution_count": 10,
   "metadata": {},
   "outputs": [
    {
     "name": "stdout",
     "output_type": "stream",
     "text": [
      "How many student: 1\n",
      "How many score 3\n",
      "1 . Grade: F\n"
     ]
    }
   ],
   "source": [
    "#โปรแกรมตัดเกรดวนไป \n",
    "z=int(input(\"How many student: \"))\n",
    "for x in range(1,z+1):\n",
    "    score=int(input(\"How many score \"))\n",
    "    if score>100:\n",
    "        print(\"you enter wrong score. plese try again.\")\n",
    "        x=x-1\n",
    "    elif score>=80:\n",
    "        print(x,\". Grade: A\")\n",
    "    elif score>=75:\n",
    "        print(x,\". Grade: B+\")\n",
    "    elif score>=70:\n",
    "        print(x,\". Grade:ฺ B\")\n",
    "    elif score>=65:\n",
    "        print(x,\". Grade: C+\")\n",
    "    elif score>=60:\n",
    "        print(x,\". Grade: C\")\n",
    "    elif score>=55:\n",
    "        print(x,\". Grade: D+\")\n",
    "    elif score>=50:\n",
    "        print(x,\". Grade: D\")\n",
    "    elif score<50 and score>=0:\n",
    "        print(x,\". Grade: F\")\n",
    "    elif score<0:\n",
    "        print(x,\". score can't be less than 0\")"
   ]
  },
  {
   "cell_type": "code",
   "execution_count": 11,
   "metadata": {},
   "outputs": [
    {
     "name": "stdout",
     "output_type": "stream",
     "text": [
      "Input a single number(0-10)5\n",
      "Five.\n"
     ]
    }
   ],
   "source": [
    "#โปรแกรมรับตัวเลข0-10แล้วแสดงชื่อตัวเลขเป็ฯภาษาอังกฤษ\n",
    "x=int(input(\"Input a single number(0-10)\"))\n",
    "if x==0:\n",
    "    print(\"Zero.\")\n",
    "elif x==1:\n",
    "    print(\"One.\")\n",
    "elif x==2:\n",
    "    print(\"Two.\")\n",
    "elif x==3:\n",
    "    print(\"Three.\")\n",
    "elif x==4:\n",
    "    print(\"Four.\")\n",
    "elif x==5:\n",
    "    print(\"Five.\")\n",
    "elif x==6:\n",
    "    print(\"Six.\")\n",
    "elif x==7:\n",
    "    print(\"Seven.\")\n",
    "elif x==8:\n",
    "    print(\"Eight.\")\n",
    "elif x==9:\n",
    "    print(\"Nine.\")\n",
    "elif x==10:\n",
    "    print(\"Ten.\")"
   ]
  },
  {
   "cell_type": "code",
   "execution_count": 12,
   "metadata": {},
   "outputs": [
    {
     "name": "stdout",
     "output_type": "stream",
     "text": [
      "Enter a number: 6\n",
      "Enter a number: 5\n",
      "6  is more than  5\n"
     ]
    }
   ],
   "source": [
    "#โปรแกรมเปรียบเทียบตัวเลข\n",
    "x=int(input(\"Enter a number: \"))\n",
    "c=int(input(\"Enter a number: \"))\n",
    "if x==c:\n",
    "    print(x,\" is equal to \",c)\n",
    "elif x==(-1*c):\n",
    "    print(x,\" is the negative of \",c)\n",
    "elif x>c:\n",
    "    print(x,\" is more than \",c)\n",
    "elif x<c:\n",
    "    print(x,\" is less than \",c)"
   ]
  },
  {
   "cell_type": "code",
   "execution_count": 13,
   "metadata": {},
   "outputs": [
    {
     "name": "stdout",
     "output_type": "stream",
     "text": [
      "Enter first number: 5\n",
      "choose calculating(+,-,*,/): -\n",
      "Enter second number: 4\n",
      "1\n"
     ]
    }
   ],
   "source": [
    "#โปรแกรมคิดเลข\n",
    "x=int(input(\"Enter first number: \"))\n",
    "o=input(\"choose calculating(+,-,*,/): \")\n",
    "y=int(input(\"Enter second number: \"))\n",
    "if o==\"+\":\n",
    "    z=x+y\n",
    "elif o==\"-\":\n",
    "    z=x-y\n",
    "elif o==\"*\":\n",
    "    z=x*y\n",
    "elif o==\"/\":\n",
    "    z=x/y\n",
    "print(z)"
   ]
  },
  {
   "cell_type": "code",
   "execution_count": 14,
   "metadata": {},
   "outputs": [
    {
     "name": "stdout",
     "output_type": "stream",
     "text": [
      "Enter a number: 6\n",
      "6  is positive.\n"
     ]
    }
   ],
   "source": [
    "#โปรแกรมตรวจเลขจำนวนจริง\n",
    "x=int(input(\"Enter a number: \"))\n",
    "if x>0:\n",
    "    print(x,\" is positive.\")\n",
    "elif x<0:\n",
    "    print(x,\" is nagative.\")\n",
    "else:\n",
    "    print(x,\" is zero\")"
   ]
  },
  {
   "cell_type": "code",
   "execution_count": 15,
   "metadata": {},
   "outputs": [
    {
     "name": "stdout",
     "output_type": "stream",
     "text": [
      "ร้านก๋วยเตี๋ยว\n",
      "  Menu\n",
      "1.เส้นเล็ก\n",
      "2.เส้นใหญ่\n",
      "3.เส้นหมี่ขาว\n",
      "4.เส้นบะหมี่เหลือง\n",
      "เลือกเส้น(1-4)1\n",
      "1.ต้มยำ\n",
      "2.น้ำใส\n",
      "3.น้ำตก\n",
      "เลือกน้ำ(1-3)3\n",
      "คุณสั่ง เส้นเล็ก น้ำตก\n"
     ]
    }
   ],
   "source": [
    "#โปรแกรมสั่งก๋วยเตี๋ยว\n",
    "print(\"ร้านก๋วยเตี๋ยว\")\n",
    "print(\"  Menu\")\n",
    "print(\"1.เส้นเล็ก\")\n",
    "print(\"2.เส้นใหญ่\")\n",
    "print(\"3.เส้นหมี่ขาว\")\n",
    "print(\"4.เส้นบะหมี่เหลือง\")\n",
    "c=int(input(\"เลือกเส้น(1-4)\"))\n",
    "print(\"1.ต้มยำ\")\n",
    "print(\"2.น้ำใส\")\n",
    "print(\"3.น้ำตก\")\n",
    "v=int(input(\"เลือกน้ำ(1-3)\"))\n",
    "if c==1:\n",
    "    if v==1:\n",
    "        print(\"คุณสั่ง เส้นเล็ก ต้มยำ\")\n",
    "    elif v==2:\n",
    "        print(\"คุณสั่ง เส้นเล็ก น้ำใส\")\n",
    "    elif v==3:\n",
    "        print(\"คุณสั่ง เส้นเล็ก น้ำตก\")\n",
    "elif c==2:\n",
    "    if v==1:\n",
    "        print(\"คุณสั่ง เส้นใหญ่ ต้มยำ\")\n",
    "    elif v==2:\n",
    "        print(\"คุณสั่ง เส้นใหญ่ น้ำใส\")\n",
    "    elif v==3:\n",
    "        print(\"คุณสั่ง เส้นใหญ่ น้ำตก\")\n",
    "elif c==3:\n",
    "    if v==1:\n",
    "        print(\"คุณสั่ง เส้นหมี่ขาว ต้มยำ\")\n",
    "    elif v==2:\n",
    "        print(\"คุณสั่ง เส้นหมี่ขาว น้ำใส\")\n",
    "    elif v==3:\n",
    "        print(\"คุณสั่ง เส้นหมี่ขาว น้ำตก\")\n",
    "elif c==4:\n",
    "    if v==1:\n",
    "        print(\"คุณสั่ง เส้นบะหมี่เหลือง ต้มยำ\")\n",
    "    elif v==2:\n",
    "        print(\"คุณสั่ง เส้นบะหมี่เหลือง น้ำใส\")\n",
    "    elif v==3:\n",
    "        print(\"คุณสั่ง เส้นบะหมี่เหลือง น้ำตก\")"
   ]
  },
  {
   "cell_type": "code",
   "execution_count": 16,
   "metadata": {},
   "outputs": [
    {
     "name": "stdout",
     "output_type": "stream",
     "text": [
      "Guess the number(1-100) :29\n",
      "Correct!,congrats.\n"
     ]
    }
   ],
   "source": [
    "#เกมทายเลข\n",
    "i=int(input(\"Guess the number(1-100) :\"))\n",
    "while i!=29:\n",
    "    if i<29 and i>0:\n",
    "        print(\"it's more than\",i)\n",
    "        i=int(input(\"Guess the number(1-100) :\"))\n",
    "    elif i>29 and i<101:\n",
    "        print(\"it's less than\",i)\n",
    "        i=int(input(\"Guess the number(1-100) :\"))\n",
    "    elif i>100 or i<1:\n",
    "        print(\"Nah,It's been among of 1-100\")\n",
    "        i=int(input(\"Guess the number(1-100) :\"))\n",
    "print(\"Correct!,congrats.\")"
   ]
  },
  {
   "cell_type": "code",
   "execution_count": 20,
   "metadata": {},
   "outputs": [
    {
     "name": "stdout",
     "output_type": "stream",
     "text": [
      "Username :wasd\n",
      "Password :1111\n",
      "welcome.\n",
      "If you want to logout enter 'end' .end\n",
      "You logout now.\n"
     ]
    }
   ],
   "source": [
    "#โปรแกรมใส่รหัสlogin\n",
    "u=input(\"Username :\")\n",
    "p=input(\"Password :\")\n",
    "while u==\"wasd\" and p==\"1111\":\n",
    "    print(\"welcome.\")\n",
    "    q=input(\"If you want to logout enter 'end' .\")\n",
    "    if q==\"end\":\n",
    "        print(\"You logout now.\")\n",
    "        break\n",
    "    else:\n",
    "        print(\"do what you want.\")"
   ]
  },
  {
   "cell_type": "code",
   "execution_count": 21,
   "metadata": {},
   "outputs": [
    {
     "name": "stdout",
     "output_type": "stream",
     "text": [
      "ต้องการแม่สูตรคูณอะไร5\n",
      "5  x  1  =  5\n",
      "5  x  2  =  10\n",
      "5  x  3  =  15\n",
      "5  x  4  =  20\n",
      "5  x  5  =  25\n",
      "5  x  6  =  30\n",
      "5  x  7  =  35\n",
      "5  x  8  =  40\n",
      "5  x  9  =  45\n",
      "5  x  10  =  50\n",
      "5  x  11  =  55\n",
      "5  x  12  =  60\n"
     ]
    }
   ],
   "source": [
    "#โปรแกรมเลือกแม่สูตรคูณ\n",
    "q=int(input(\"ต้องการแม่สูตรคูณอะไร\"))\n",
    "for c in range(12):\n",
    "    print(q,\" x \",(c+1),\" = \",q*(c+1))"
   ]
  },
  {
   "cell_type": "code",
   "execution_count": 19,
   "metadata": {},
   "outputs": [
    {
     "name": "stdout",
     "output_type": "stream",
     "text": [
      "ระยะทางทั้งหมดในการล่องเรือ(km.): 65325\n",
      "ความเร็วของเรือ(km/hr): 50\n",
      "ต้องใช้เวลาเดินเรือไปทั้งหมด 55 วัน\n"
     ]
    }
   ],
   "source": [
    "#โปรแกรมคำนวณวันที่ใช้ล่องเรือ\n",
    "a = int(input(\"ระยะทางทั้งหมดในการล่องเรือ(km.): \"))\n",
    "s = int(input(\"ความเร็วของเรือ(km/hr): \"))\n",
    "k = 0\n",
    "day = 1\n",
    "while True:\n",
    "    k = k+(s*24)\n",
    "    if k>=a:\n",
    "        break\n",
    "    day = day+1\n",
    "print(\"ต้องใช้เวลาเดินเรือไปทั้งหมด\",day,\"วัน\")"
   ]
  },
  {
   "cell_type": "code",
   "execution_count": null,
   "metadata": {},
   "outputs": [],
   "source": []
  }
 ],
 "metadata": {
  "kernelspec": {
   "display_name": "Python 3",
   "language": "python",
   "name": "python3"
  },
  "language_info": {
   "codemirror_mode": {
    "name": "ipython",
    "version": 3
   },
   "file_extension": ".py",
   "mimetype": "text/x-python",
   "name": "python",
   "nbconvert_exporter": "python",
   "pygments_lexer": "ipython3",
   "version": "3.6.7"
  }
 },
 "nbformat": 4,
 "nbformat_minor": 2
}
