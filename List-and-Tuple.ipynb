{
 "cells": [
  {
   "cell_type": "code",
   "execution_count": 4,
   "metadata": {},
   "outputs": [
    {
     "name": "stdout",
     "output_type": "stream",
     "text": [
      "เดือนทั้งหมด = ['Jan', 'Fed', 'Mar', 'Apr', 'May', 'Jun', 'Jul', 'Aug', 'Sep', 'Oct', 'Nov', 'Dec']\n",
      "ลบเดือน =  ['Jan', 'Fed', 'Apr', 'May', 'Jun', 'Aug', 'Sep', 'Oct', 'Nov']\n",
      "เดือนที่เหลืออยู่ = ['Jan', 'Fed', 'Apr', 'May', 'Jun', 'Aug', 'Sep', 'Oct', 'Nov']\n"
     ]
    }
   ],
   "source": [
    "month_lst = [\"Jan\", \"May\", \"Jul\", \"Aug\", \"Oct\", \"Dec\"]\n",
    "month_lst.insert(1,\"Fed\")\n",
    "month_lst.insert(2,\"Mar\")\n",
    "month_lst.insert(3,\"Apr\")\n",
    "month_lst.insert(5,\"Jun\")\n",
    "month_lst.insert(8,\"Sep\")\n",
    "month_lst.insert(10,\"Nov\")\n",
    "print(\"เดือนทั้งหมด =\", month_lst)\n",
    "month_lst.pop(2)\n",
    "month_lst.pop(5)\n",
    "month_lst.pop(9)\n",
    "print(\"ลบเดือน = \", month_lst)\n",
    "month_lst1 = month_lst.copy()\n",
    "print (\"เดือนที่เหลืออยู่ =\", month_lst1)"
   ]
  },
  {
   "cell_type": "code",
   "execution_count": 39,
   "metadata": {},
   "outputs": [
    {
     "name": "stdout",
     "output_type": "stream",
     "text": [
      "เรียงจากท้ายไปหน้า = ['Sat', 'Fri', 'Thu', 'Wed', 'Tue', 'Mon', 'Sun']\n",
      "เรียงตามตัวอักษร =  ['Fri', 'Mon', 'Sat', 'Sun', 'Thu', 'Tue', 'Wed']\n",
      "ตำแหน่ง 3 5 7 คือ Tue Thu Sat\n"
     ]
    }
   ],
   "source": [
    "days_lst = [\"Sun\", \"Mon\", \"Tue\", \"Wed\", \"Thu\", \"Fri\", \"Sat\"]\n",
    "days_lst.reverse()\n",
    "print(\"เรียงจากท้ายไปหน้า =\", days_lst)\n",
    "days_lst.sort()\n",
    "print(\"เรียงตามตัวอักษร = \", days_lst)\n",
    "print (\"ตำแหน่ง 3 5 7 คือ\", days_lst[5],days_lst[4],days_lst[2])\n"
   ]
  },
  {
   "cell_type": "code",
   "execution_count": 46,
   "metadata": {},
   "outputs": [
    {
     "name": "stdout",
     "output_type": "stream",
     "text": [
      "ตำแหน่งของ Benz คือ  2\n",
      "ตำแหน่งของ Ford คือ  5\n",
      "ตำแหน่งของ Volvo คือ  7\n",
      "รถทั้งหมด คือ 8\n",
      "มีรถ Suzuki หรือไม่ =  False\n",
      "มีรถ Ferrari หรือไม่ =  False\n",
      "มีรถ Ford หรือไม่ =  True\n"
     ]
    }
   ],
   "source": [
    "brand_cars_tup = (\"Toyota\", \"Honda\", \"Benz\", \"BMW\", \"Tesla\", \"Ford\", \"KIA\", \"Volvo\" )\n",
    "print(\"ตำแหน่งของ Benz คือ \", brand_cars_tup.index(\"Benz\"))\n",
    "print(\"ตำแหน่งของ Ford คือ \", brand_cars_tup.index(\"Ford\"))\n",
    "print(\"ตำแหน่งของ Volvo คือ \", brand_cars_tup.index(\"Volvo\"))\n",
    "print(\"รถทั้งหมด คือ\",len(brand_cars_tup))\n",
    "print(\"มีรถ Suzuki หรือไม่ = \", \"Suzuki\" in brand_cars_tup)\n",
    "print(\"มีรถ Ferrari หรือไม่ = \", \"Ferrari\" in brand_cars_tup)\n",
    "print(\"มีรถ Ford หรือไม่ = \", \"Ford\" in brand_cars_tup)"
   ]
  },
  {
   "cell_type": "code",
   "execution_count": null,
   "metadata": {},
   "outputs": [],
   "source": []
  }
 ],
 "metadata": {
  "kernelspec": {
   "display_name": "Python 3",
   "language": "python",
   "name": "python3"
  },
  "language_info": {
   "codemirror_mode": {
    "name": "ipython",
    "version": 3
   },
   "file_extension": ".py",
   "mimetype": "text/x-python",
   "name": "python",
   "nbconvert_exporter": "python",
   "pygments_lexer": "ipython3",
   "version": "3.6.7"
  }
 },
 "nbformat": 4,
 "nbformat_minor": 2
}
